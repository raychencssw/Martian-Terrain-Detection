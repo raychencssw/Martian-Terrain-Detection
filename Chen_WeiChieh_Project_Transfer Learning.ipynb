{
 "cells": [
  {
   "cell_type": "markdown",
   "metadata": {},
   "source": [
    "<center><h1>Chen_WeiChieh_Project</h1></center>"
   ]
  },
  {
   "cell_type": "markdown",
   "metadata": {},
   "source": [
    "### Due to the high training time for this project and my 1st result of CNN+MLP is not good, I re-run the CNN+MLP model by adding a RandomFlip and a dense layer with 64 perceptrons. Hence, my work is divided into 2 files. This file pertains to \"Transfer Learning\" and the comparison of the models."
   ]
  },
  {
   "cell_type": "markdown",
   "metadata": {},
   "source": [
    "### Please only see transfer learning part in this file, and refer to the cell denoting \"All the work of this file starts from here\""
   ]
  },
  {
   "cell_type": "markdown",
   "metadata": {},
   "source": [
    "Name: WeiChieh, Chen\n",
    "<br>\n",
    "Github Username: raychencssw\n",
    "<br>\n",
    "USC ID: 6284920085"
   ]
  },
  {
   "cell_type": "markdown",
   "metadata": {},
   "source": [
    "# 1"
   ]
  },
  {
   "cell_type": "code",
   "execution_count": 1,
   "metadata": {},
   "outputs": [],
   "source": [
    "import os\n",
    "import os.path as op\n",
    "import json\n",
    "from pathlib import Path\n",
    "import shutil\n",
    "import logging\n",
    "import numpy as np\n",
    "from tqdm import tqdm\n",
    "from skimage import io\n"
   ]
  },
  {
   "cell_type": "code",
   "execution_count": 2,
   "metadata": {},
   "outputs": [],
   "source": [
    "# Logging configuration\n",
    "logging.basicConfig(level=logging.INFO,\n",
    "                    datefmt='%H:%M:%S',\n",
    "                    format='%(asctime)s | %(levelname)-5s | %(module)-15s | %(message)s')\n",
    "\n",
    "IMAGE_SIZE = (299, 299)  # All images contained in this dataset are 299x299 (originally, to match Inception v3 input size)\n",
    "SEED = 17\n",
    "\n",
    "# Head directory containing all image subframes. Update with the relative path of your data directory\n",
    "data_head_dir = Path('./data')\n",
    "\n",
    "# Find all subframe directories\n",
    "subdirs = [Path(subdir.stem) for subdir in data_head_dir.iterdir() if subdir.is_dir()]\n",
    "#print(subdirs) \n",
    "#PosixPath('ESP_026602_1300_25600_30720_5120_10240'), ....\n",
    "\n",
    "src_image_ids = ['_'.join(a_path.name.split('_')[:3]) for a_path in subdirs]\n",
    "# print(src_image_ids)\n",
    "#['ESP_026602_1300',"
   ]
  },
  {
   "cell_type": "code",
   "execution_count": 3,
   "metadata": {},
   "outputs": [],
   "source": [
    "# Load train/val/test subframe IDs\n",
    "def load_text_ids(file_path):\n",
    "    \"\"\"Simple helper to load all lines from a text file\"\"\"\n",
    "    with open(file_path, 'r') as f:\n",
    "        lines = [line.strip() for line in f.readlines()]\n",
    "    return lines\n",
    "\n",
    "# Load the subframe names for the three data subsets\n",
    "train_ids = load_text_ids('./train_source_images.txt')\n",
    "validate_ids = load_text_ids('./val_source_images.txt')\n",
    "test_ids = load_text_ids('./test_source_images.txt')\n",
    "\n",
    "# Generate a list containing the dataset split for the matching subdirectory names\n",
    "subdir_splits = []\n",
    "for src_id in src_image_ids:\n",
    "    if src_id in train_ids:\n",
    "        subdir_splits.append('train')\n",
    "    elif src_id in validate_ids:\n",
    "        subdir_splits.append('validate')\n",
    "    elif(src_id in test_ids):\n",
    "        subdir_splits.append('test')\n",
    "    else:\n",
    "        logging.warning(f'{src_id}: Did not find designated split in train/validate/test list.')\n",
    "        subdir_splits.append(None)\n",
    "\n",
    "# print(len(subdir_splits))  # 214\n",
    "# print(subdir_splits)       # ['test', 'train', ...]"
   ]
  },
  {
   "cell_type": "markdown",
   "metadata": {},
   "source": [
    "# Loading and pre processing the data\n",
    "### Note that there are multiple ways to preprocess and load your data in order to train your model in tensorflow. We have provided one way to do it in the following cell. Feel free to use your own method and get better results."
   ]
  },
  {
   "cell_type": "code",
   "execution_count": 4,
   "metadata": {},
   "outputs": [
    {
     "name": "stderr",
     "output_type": "stream",
     "text": [
      "00:20:28 | INFO  | utils           | NumExpr defaulting to 8 threads.\n"
     ]
    }
   ],
   "source": [
    "import random\n",
    "import tensorflow as tf\n",
    "from PIL import Image \n",
    "\n",
    "\n",
    "def load_and_preprocess(img_loc, label):\n",
    "    \n",
    "    def _inner_function(img_loc, label):\n",
    "        \n",
    "        # Convert tensor to native type\n",
    "        img_loc_str = img_loc.numpy().decode('utf-8')\n",
    "\n",
    "        # Load image using PIL and convert to RGB\n",
    "        img = Image.open(img_loc_str).convert('RGB')\n",
    "\n",
    "        # Convert PIL image to numpy array\n",
    "        img = np.array(img)\n",
    "        img = tf.image.resize(img, [299, 299])\n",
    "\n",
    "        # Normalize the image to the [0, 1] range\n",
    "        img = img / 255.0\n",
    "        # Convert label to integer (assuming binary classification)\n",
    "        label = 1 if label.numpy().decode('utf-8') == 'frost' else 0\n",
    "\n",
    "        return img, label\n",
    "\n",
    "    # Wrap the Python function\n",
    "    X, y = tf.py_function(_inner_function, [img_loc, label], [tf.float32, tf.int64])\n",
    "\n",
    "    # Set the shape of the tensors\n",
    "    X.set_shape([299, 299, 3])\n",
    "    y.set_shape([]) # Scalar label\n",
    "    \n",
    "    return X, y\n",
    "\n",
    "def load_subdir_data(dir_path, image_size, seed=None):\n",
    "    \n",
    "    \"\"\"Helper to create a TF dataset from each image subdirectory\"\"\"\n",
    "    # dir_path: ./data/ESP_026602_1300_25600_30720_5120_10240\n",
    "\n",
    "    # Grab only the classes that (1) we want to keep and (2) exist in this directory\n",
    "    # tile_dir: ./data/ESP_026602_1300_25600_30720_5120_10240/tiles\n",
    "    tile_dir = dir_path / Path('tiles')\n",
    "    label_dir = dir_path /Path('labels')\n",
    "    \n",
    "    loc_list = []\n",
    "    \n",
    "    # folder: frost or background\n",
    "    for folder in os.listdir(tile_dir):\n",
    "        if os.path.isdir(os.path.join(tile_dir, folder)):\n",
    "            # file: PSP_008120_2465_70447_70746_7811_8110.png\n",
    "            for file in os.listdir(os.path.join(tile_dir, folder)):\n",
    "                if file.endswith(\".png\"):\n",
    "                    # (./data/ESP_026602_1300_25600_30720_5120_10240/tiles/frost/PSP_008120_2465_70447_70746_7811_8110.png, frost)\n",
    "                    loc_list.append((os.path.join(os.path.join(tile_dir, folder), file), folder))\n",
    "\n",
    "    return loc_list\n",
    "\n",
    "# Loop over all subframes, loading each into a list\n",
    "tf_data_train, tf_data_test, tf_data_val = [], [], []\n",
    "tf_dataset_train, tf_dataset_test, tf_dataset_val = [], [], []\n",
    "\n",
    "# Update the batch and buffer size as per your model requirements\n",
    "\n",
    "# 12/6 23:00 exp\n",
    "buffer_size = 64         #11s\n",
    "batch_size = 32\n",
    "\n",
    "\n",
    "# buffer_size = 119920   #75m\n",
    "# batch_size = 128\n",
    "\n",
    "# buffer_size = 256        #47m\n",
    "# batch_size = 128\n",
    "\n",
    "# subdirs: PosixPath('ESP_026602_1300_25600_30720_5120_10240'), ....\n",
    "# subdir_splits: ['test', 'train', ...]  len:214\n",
    "for subdir, split in zip(subdirs, subdir_splits):\n",
    "    full_path = data_head_dir / subdir\n",
    "    if split=='validate':\n",
    "        tf_data_val.extend(load_subdir_data(full_path, IMAGE_SIZE, SEED))\n",
    "    elif split=='train':\n",
    "        tf_data_train.extend(load_subdir_data(full_path, IMAGE_SIZE, SEED))\n",
    "    elif split=='test':\n",
    "        tf_data_test.extend(load_subdir_data(full_path, IMAGE_SIZE, SEED))\n",
    "\n",
    "# training data        \n",
    "\n",
    "random.shuffle(tf_data_train)\n",
    "img_list, label_list = zip(*tf_data_train)\n",
    "img_list_t = tf.convert_to_tensor(img_list)\n",
    "lb_list_t = tf.convert_to_tensor(label_list)\n",
    "#print(img_list_t)\n",
    "#tf.Tensor([b'data/PSP_008120_2465_66560_71680_5120_10240/tiles/frost/PSP_008120_2465_69849_70148_9306_9605.png']..., shape=(14119,), dtype=string)\n",
    "\n",
    "\n",
    "tf_dataset_train = tf.data.Dataset.from_tensor_slices((img_list_t, lb_list_t))\n",
    "# print(tf_dataset_train)\n",
    "\n",
    "# tf.data.experimental.AUTOTUNE: representing the number elements to process asynchronously in parallel\n",
    "# load_and_preprocess: converts the label to a binary format (1 if 'frost', 0 otherwise)\n",
    "tf_dataset_train = tf_dataset_train.map(load_and_preprocess, num_parallel_calls=tf.data.experimental.AUTOTUNE)\n",
    "# tf_dataset_train = tf_dataset_train.map(rotate_train)\n",
    "# print(len(list(tf_dataset_train))) # 14119\n",
    "# print(tf_dataset_train)\n",
    "tf_dataset_train = tf_dataset_train.shuffle(buffer_size=buffer_size).batch(batch_size) \n",
    "# print(len(list(tf_dataset_train))) # 442\n",
    "# print(tf_dataset_train)\n",
    "\n",
    "# validation data \n",
    "\n",
    "random.shuffle(tf_data_val)\n",
    "img_list, label_list = zip(*tf_data_val)\n",
    "img_list_t = tf.convert_to_tensor(img_list)\n",
    "lb_list_t = tf.convert_to_tensor(label_list)\n",
    "\n",
    "tf_dataset_val = tf.data.Dataset.from_tensor_slices((img_list_t, lb_list_t))\n",
    "tf_dataset_val = tf_dataset_val.map(load_and_preprocess, num_parallel_calls=tf.data.experimental.AUTOTUNE)\n",
    "# print(len(list(tf_dataset_val))) # 7889\n",
    "tf_dataset_val = tf_dataset_val.shuffle(buffer_size=buffer_size).batch(batch_size) \n",
    "# print(len(list(tf_dataset_val))) # 247\n",
    "\n",
    "# test data \n",
    "\n",
    "random.shuffle(tf_data_test)\n",
    "img_list, label_list = zip(*tf_data_test)\n",
    "img_list_t = tf.convert_to_tensor(img_list)\n",
    "lb_list_t = tf.convert_to_tensor(label_list)\n",
    "\n",
    "tf_dataset_test = tf.data.Dataset.from_tensor_slices((img_list_t, lb_list_t))\n",
    "tf_dataset_test = tf_dataset_test.map(load_and_preprocess, num_parallel_calls=tf.data.experimental.AUTOTUNE)\n",
    "# len(list(tf_dataset_test))\n",
    "tf_dataset_test = tf_dataset_test.shuffle(buffer_size=buffer_size).batch(batch_size) \n",
    "# len(list(tf_dataset_test)) # 250"
   ]
  },
  {
   "cell_type": "code",
   "execution_count": 5,
   "metadata": {},
   "outputs": [
    {
     "name": "stdout",
     "output_type": "stream",
     "text": [
      "(32, 299, 299, 3)\n",
      "tf.Tensor([0.21568628 0.21568628 0.21568628], shape=(3,), dtype=float32)\n",
      "32\n",
      "tf.Tensor([1 0 0 0 0 1 1 0 1 1 0 1 0 1 1 1 1 0 1 0 0 1 1 1 1 0 1 1 0 0 0 1], shape=(32,), dtype=int64)\n"
     ]
    }
   ],
   "source": [
    "for img, label in tf_dataset_train.take(1):\n",
    "    print(img.shape)\n",
    "    print(img[0][0][0])\n",
    "    print(len(label))\n",
    "    print(label)"
   ]
  },
  {
   "cell_type": "markdown",
   "metadata": {},
   "source": [
    "# Traning CNN + MLP\n",
    "### i Empirical Regularization"
   ]
  },
  {
   "cell_type": "code",
   "execution_count": 6,
   "metadata": {},
   "outputs": [],
   "source": [
    "from tensorflow.keras.models import Sequential\n",
    "from tensorflow.keras.layers import Dense, Activation, BatchNormalization, Dropout, Conv2D, MaxPooling2D, Flatten, RandomRotation\n",
    "from tensorflow.keras import regularizers\n",
    "from tensorflow.keras.optimizers.legacy import Adam\n",
    "from tensorflow.keras.callbacks import EarlyStopping\n",
    "from tensorflow.keras.regularizers import l2\n",
    "import matplotlib.pyplot as plt\n",
    "from sklearn.metrics import classification_report\n",
    "from keras.models import Model\n",
    "import matplotlib.pyplot as plt"
   ]
  },
  {
   "cell_type": "markdown",
   "metadata": {},
   "source": [
    "### ii Train a three-layer CNN"
   ]
  },
  {
   "cell_type": "code",
   "execution_count": 90,
   "metadata": {},
   "outputs": [
    {
     "name": "stderr",
     "output_type": "stream",
     "text": [
      "23:47:57 | WARNING | optimizer       | At this time, the v2.11+ optimizer `tf.keras.optimizers.Adam` runs slowly on M1/M2 Macs, please use the legacy Keras optimizer instead, located at `tf.keras.optimizers.legacy.Adam`.\n"
     ]
    },
    {
     "name": "stdout",
     "output_type": "stream",
     "text": [
      "Epoch 1/20\n",
      "111/111 [==============================] - 1091s 10s/step - loss: 4.8668 - accuracy: 0.8235 - val_loss: 9.4205 - val_accuracy: 0.7886\n",
      "Epoch 2/20\n"
     ]
    },
    {
     "name": "stderr",
     "output_type": "stream",
     "text": [
      "2023-12-07 00:06:18.889802: I tensorflow/core/kernels/data/shuffle_dataset_op.cc:422] ShuffleDatasetV3:193: Filling up shuffle buffer (this may take a while): 11975 of 119920\n",
      "2023-12-07 00:06:20.923543: I tensorflow/core/kernels/data/shuffle_dataset_op.cc:452] Shuffle buffer filled.\n"
     ]
    },
    {
     "name": "stdout",
     "output_type": "stream",
     "text": [
      "111/111 [==============================] - 1318s 12s/step - loss: 3.1188 - accuracy: 0.8672 - val_loss: 10.5932 - val_accuracy: 0.7982\n",
      "Epoch 3/20\n"
     ]
    },
    {
     "name": "stderr",
     "output_type": "stream",
     "text": [
      "2023-12-07 00:28:16.905505: I tensorflow/core/kernels/data/shuffle_dataset_op.cc:422] ShuffleDatasetV3:193: Filling up shuffle buffer (this may take a while): 11718 of 119920\n",
      "2023-12-07 00:28:19.487848: I tensorflow/core/kernels/data/shuffle_dataset_op.cc:452] Shuffle buffer filled.\n"
     ]
    },
    {
     "name": "stdout",
     "output_type": "stream",
     "text": [
      "111/111 [==============================] - 1293s 12s/step - loss: 2.8478 - accuracy: 0.8893 - val_loss: 68.6483 - val_accuracy: 0.2320\n",
      "Epoch 4/20\n"
     ]
    },
    {
     "name": "stderr",
     "output_type": "stream",
     "text": [
      "2023-12-07 00:49:49.997548: I tensorflow/core/kernels/data/shuffle_dataset_op.cc:422] ShuffleDatasetV3:193: Filling up shuffle buffer (this may take a while): 12111 of 119920\n",
      "2023-12-07 00:49:52.059755: I tensorflow/core/kernels/data/shuffle_dataset_op.cc:452] Shuffle buffer filled.\n"
     ]
    },
    {
     "name": "stdout",
     "output_type": "stream",
     "text": [
      "111/111 [==============================] - 1259s 11s/step - loss: 2.6742 - accuracy: 0.8748 - val_loss: 6.4991 - val_accuracy: 0.8377\n",
      "Epoch 5/20\n"
     ]
    },
    {
     "name": "stderr",
     "output_type": "stream",
     "text": [
      "2023-12-07 01:10:48.849729: I tensorflow/core/kernels/data/shuffle_dataset_op.cc:422] ShuffleDatasetV3:193: Filling up shuffle buffer (this may take a while): 12555 of 119920\n",
      "2023-12-07 01:10:50.264797: I tensorflow/core/kernels/data/shuffle_dataset_op.cc:452] Shuffle buffer filled.\n"
     ]
    },
    {
     "name": "stdout",
     "output_type": "stream",
     "text": [
      "111/111 [==============================] - 1259s 11s/step - loss: 4.6827 - accuracy: 0.8773 - val_loss: 10.7762 - val_accuracy: 0.7900\n",
      "Epoch 6/20\n"
     ]
    },
    {
     "name": "stderr",
     "output_type": "stream",
     "text": [
      "2023-12-07 01:31:48.059362: I tensorflow/core/kernels/data/shuffle_dataset_op.cc:422] ShuffleDatasetV3:193: Filling up shuffle buffer (this may take a while): 12536 of 119920\n",
      "2023-12-07 01:31:49.529393: I tensorflow/core/kernels/data/shuffle_dataset_op.cc:452] Shuffle buffer filled.\n"
     ]
    },
    {
     "name": "stdout",
     "output_type": "stream",
     "text": [
      "111/111 [==============================] - 1228s 11s/step - loss: 2.2908 - accuracy: 0.8904 - val_loss: 7.8039 - val_accuracy: 0.8895\n",
      "Epoch 7/20\n"
     ]
    },
    {
     "name": "stderr",
     "output_type": "stream",
     "text": [
      "2023-12-07 01:52:16.527916: I tensorflow/core/kernels/data/shuffle_dataset_op.cc:422] ShuffleDatasetV3:193: Filling up shuffle buffer (this may take a while): 12743 of 119920\n",
      "2023-12-07 01:52:18.355504: I tensorflow/core/kernels/data/shuffle_dataset_op.cc:452] Shuffle buffer filled.\n"
     ]
    },
    {
     "name": "stdout",
     "output_type": "stream",
     "text": [
      "111/111 [==============================] - 1255s 11s/step - loss: 3.0447 - accuracy: 0.8906 - val_loss: 4.1378 - val_accuracy: 0.9067\n",
      "Epoch 8/20\n"
     ]
    },
    {
     "name": "stderr",
     "output_type": "stream",
     "text": [
      "2023-12-07 02:13:11.545460: I tensorflow/core/kernels/data/shuffle_dataset_op.cc:422] ShuffleDatasetV3:193: Filling up shuffle buffer (this may take a while): 11856 of 119920\n",
      "2023-12-07 02:13:13.711635: I tensorflow/core/kernels/data/shuffle_dataset_op.cc:452] Shuffle buffer filled.\n"
     ]
    },
    {
     "name": "stdout",
     "output_type": "stream",
     "text": [
      "111/111 [==============================] - 1250s 11s/step - loss: 2.1103 - accuracy: 0.9162 - val_loss: 4.0738 - val_accuracy: 0.9229\n",
      "Epoch 9/20\n"
     ]
    },
    {
     "name": "stderr",
     "output_type": "stream",
     "text": [
      "2023-12-07 02:34:01.439489: I tensorflow/core/kernels/data/shuffle_dataset_op.cc:422] ShuffleDatasetV3:193: Filling up shuffle buffer (this may take a while): 12201 of 119920\n",
      "2023-12-07 02:34:03.970545: I tensorflow/core/kernels/data/shuffle_dataset_op.cc:452] Shuffle buffer filled.\n"
     ]
    },
    {
     "name": "stdout",
     "output_type": "stream",
     "text": [
      "111/111 [==============================] - 1236s 11s/step - loss: 2.0261 - accuracy: 0.9178 - val_loss: 3.4776 - val_accuracy: 0.7123\n",
      "Epoch 10/20\n"
     ]
    },
    {
     "name": "stderr",
     "output_type": "stream",
     "text": [
      "2023-12-07 02:54:37.444238: I tensorflow/core/kernels/data/shuffle_dataset_op.cc:422] ShuffleDatasetV3:193: Filling up shuffle buffer (this may take a while): 13092 of 119920\n",
      "2023-12-07 02:54:38.354923: I tensorflow/core/kernels/data/shuffle_dataset_op.cc:452] Shuffle buffer filled.\n"
     ]
    },
    {
     "name": "stdout",
     "output_type": "stream",
     "text": [
      "111/111 [==============================] - 1254s 11s/step - loss: 2.1110 - accuracy: 0.9210 - val_loss: 2.7761 - val_accuracy: 0.8223\n",
      "Epoch 11/20\n"
     ]
    },
    {
     "name": "stderr",
     "output_type": "stream",
     "text": [
      "2023-12-07 03:15:31.407617: I tensorflow/core/kernels/data/shuffle_dataset_op.cc:422] ShuffleDatasetV3:193: Filling up shuffle buffer (this may take a while): 11140 of 119920\n",
      "2023-12-07 03:15:34.557153: I tensorflow/core/kernels/data/shuffle_dataset_op.cc:452] Shuffle buffer filled.\n"
     ]
    },
    {
     "name": "stdout",
     "output_type": "stream",
     "text": [
      "111/111 [==============================] - 1250s 11s/step - loss: 1.3834 - accuracy: 0.9373 - val_loss: 2.5980 - val_accuracy: 0.8963\n",
      "Epoch 12/20\n"
     ]
    },
    {
     "name": "stderr",
     "output_type": "stream",
     "text": [
      "2023-12-07 03:36:21.414840: I tensorflow/core/kernels/data/shuffle_dataset_op.cc:422] ShuffleDatasetV3:193: Filling up shuffle buffer (this may take a while): 12579 of 119920\n",
      "2023-12-07 03:36:22.831095: I tensorflow/core/kernels/data/shuffle_dataset_op.cc:452] Shuffle buffer filled.\n"
     ]
    },
    {
     "name": "stdout",
     "output_type": "stream",
     "text": [
      "111/111 [==============================] - 1269s 11s/step - loss: 1.2090 - accuracy: 0.9479 - val_loss: 2.3440 - val_accuracy: 0.9395\n",
      "Epoch 13/20\n"
     ]
    },
    {
     "name": "stderr",
     "output_type": "stream",
     "text": [
      "2023-12-07 03:57:30.396595: I tensorflow/core/kernels/data/shuffle_dataset_op.cc:422] ShuffleDatasetV3:193: Filling up shuffle buffer (this may take a while): 11899 of 119920\n",
      "2023-12-07 03:57:32.495541: I tensorflow/core/kernels/data/shuffle_dataset_op.cc:452] Shuffle buffer filled.\n"
     ]
    },
    {
     "name": "stdout",
     "output_type": "stream",
     "text": [
      "111/111 [==============================] - 1243s 11s/step - loss: 1.7555 - accuracy: 0.9413 - val_loss: 14.1503 - val_accuracy: 0.6812\n",
      "Epoch 14/20\n"
     ]
    },
    {
     "name": "stderr",
     "output_type": "stream",
     "text": [
      "2023-12-07 04:18:13.357163: I tensorflow/core/kernels/data/shuffle_dataset_op.cc:422] ShuffleDatasetV3:193: Filling up shuffle buffer (this may take a while): 11726 of 119920\n",
      "2023-12-07 04:18:15.817601: I tensorflow/core/kernels/data/shuffle_dataset_op.cc:452] Shuffle buffer filled.\n"
     ]
    },
    {
     "name": "stdout",
     "output_type": "stream",
     "text": [
      "111/111 [==============================] - 1232s 11s/step - loss: 2.3163 - accuracy: 0.9059 - val_loss: 2.2594 - val_accuracy: 0.9128\n",
      "Epoch 15/20\n"
     ]
    },
    {
     "name": "stderr",
     "output_type": "stream",
     "text": [
      "2023-12-07 04:38:45.693849: I tensorflow/core/kernels/data/shuffle_dataset_op.cc:422] ShuffleDatasetV3:193: Filling up shuffle buffer (this may take a while): 13020 of 119920\n",
      "2023-12-07 04:38:46.768723: I tensorflow/core/kernels/data/shuffle_dataset_op.cc:452] Shuffle buffer filled.\n"
     ]
    },
    {
     "name": "stdout",
     "output_type": "stream",
     "text": [
      "111/111 [==============================] - 1178s 11s/step - loss: 1.9723 - accuracy: 0.9319 - val_loss: 4.4052 - val_accuracy: 0.8686\n",
      "Epoch 16/20\n"
     ]
    },
    {
     "name": "stderr",
     "output_type": "stream",
     "text": [
      "2023-12-07 04:58:23.395281: I tensorflow/core/kernels/data/shuffle_dataset_op.cc:422] ShuffleDatasetV3:193: Filling up shuffle buffer (this may take a while): 13037 of 119920\n",
      "2023-12-07 04:58:24.354090: I tensorflow/core/kernels/data/shuffle_dataset_op.cc:452] Shuffle buffer filled.\n"
     ]
    },
    {
     "name": "stdout",
     "output_type": "stream",
     "text": [
      "111/111 [==============================] - 1254s 11s/step - loss: 1.5295 - accuracy: 0.9460 - val_loss: 3.6375 - val_accuracy: 0.7536\n",
      "Epoch 17/20\n"
     ]
    },
    {
     "name": "stderr",
     "output_type": "stream",
     "text": [
      "2023-12-07 05:19:16.907267: I tensorflow/core/kernels/data/shuffle_dataset_op.cc:422] ShuffleDatasetV3:193: Filling up shuffle buffer (this may take a while): 10679 of 119920\n",
      "2023-12-07 05:19:20.181509: I tensorflow/core/kernels/data/shuffle_dataset_op.cc:452] Shuffle buffer filled.\n"
     ]
    },
    {
     "name": "stdout",
     "output_type": "stream",
     "text": [
      "111/111 [==============================] - 1230s 11s/step - loss: 1.4962 - accuracy: 0.9204 - val_loss: 42.5968 - val_accuracy: 0.2405\n",
      "Epoch 18/20\n"
     ]
    },
    {
     "name": "stderr",
     "output_type": "stream",
     "text": [
      "2023-12-07 05:39:47.116076: I tensorflow/core/kernels/data/shuffle_dataset_op.cc:422] ShuffleDatasetV3:193: Filling up shuffle buffer (this may take a while): 12708 of 119920\n",
      "2023-12-07 05:39:48.417703: I tensorflow/core/kernels/data/shuffle_dataset_op.cc:452] Shuffle buffer filled.\n"
     ]
    },
    {
     "name": "stdout",
     "output_type": "stream",
     "text": [
      "111/111 [==============================] - 1211s 11s/step - loss: 2.0396 - accuracy: 0.9034 - val_loss: 5.2318 - val_accuracy: 0.7711\n",
      "Epoch 19/20\n"
     ]
    },
    {
     "name": "stderr",
     "output_type": "stream",
     "text": [
      "2023-12-07 05:59:57.995319: I tensorflow/core/kernels/data/shuffle_dataset_op.cc:422] ShuffleDatasetV3:193: Filling up shuffle buffer (this may take a while): 12421 of 119920\n",
      "2023-12-07 05:59:59.651456: I tensorflow/core/kernels/data/shuffle_dataset_op.cc:452] Shuffle buffer filled.\n"
     ]
    },
    {
     "name": "stdout",
     "output_type": "stream",
     "text": [
      "111/111 [==============================] - 1212s 11s/step - loss: 1.0687 - accuracy: 0.9416 - val_loss: 1.5586 - val_accuracy: 0.9105\n",
      "Epoch 20/20\n"
     ]
    },
    {
     "name": "stderr",
     "output_type": "stream",
     "text": [
      "2023-12-07 06:20:09.748930: I tensorflow/core/kernels/data/shuffle_dataset_op.cc:422] ShuffleDatasetV3:193: Filling up shuffle buffer (this may take a while): 11140 of 119920\n",
      "2023-12-07 06:20:13.464771: I tensorflow/core/kernels/data/shuffle_dataset_op.cc:452] Shuffle buffer filled.\n"
     ]
    },
    {
     "name": "stdout",
     "output_type": "stream",
     "text": [
      "111/111 [==============================] - 1257s 11s/step - loss: 1.6243 - accuracy: 0.9096 - val_loss: 2.3925 - val_accuracy: 0.8474\n",
      "63/63 [==============================] - 148s 2s/step - loss: 8.0187 - accuracy: 0.4560\n",
      "Test accuracy: 0.4559708833694458\n"
     ]
    }
   ],
   "source": [
    "def build_cnn():\n",
    "    # Define the model\n",
    "    model = Sequential()\n",
    "\n",
    "    # Convolutional layers\n",
    "    model.add(Conv2D(32, (3, 3), activation='relu', input_shape=(299,299,3), padding='same'))\n",
    "    model.add(BatchNormalization())\n",
    "    model.add(MaxPooling2D((2, 2)))\n",
    "    model.add(Dropout(0.3))\n",
    "\n",
    "    model.add(Conv2D(64, (3, 3), activation='relu', padding='same'))\n",
    "    model.add(BatchNormalization())\n",
    "    model.add(MaxPooling2D((2, 2)))\n",
    "    model.add(Dropout(0.3))\n",
    "\n",
    "    model.add(Conv2D(128, (3, 3), activation='relu', padding='same'))\n",
    "    model.add(BatchNormalization())\n",
    "    model.add(MaxPooling2D((2, 2)))\n",
    "    model.add(Dropout(0.3))\n",
    "\n",
    "    model.add(RandomRotation(factor=(-1,1),seed=SEED))\n",
    "\n",
    "    model.add(Flatten())\n",
    "\n",
    "    # Add the output layer with softmax activation\n",
    "    model.add(Dense(2, activation='softmax'))\n",
    "\n",
    "    # Compile the model\n",
    "    model.compile(optimizer=Adam(), loss='sparse_categorical_crossentropy', metrics=['accuracy'])\n",
    "\n",
    "\n",
    "    return model\n",
    "\n",
    "model = build_cnn()\n",
    "\n",
    "early_stopping = EarlyStopping(monitor='val_loss', patience=5, restore_best_weights=True)\n",
    "\n",
    "history = model.fit(tf_dataset_train, epochs=25, validation_data=tf_dataset_val, callbacks=[early_stopping])\n",
    "\n",
    "# Evaluate the model on the test set\n",
    "test_loss, test_acc = model.evaluate(tf_dataset_test)\n",
    "\n",
    "print(f'Test accuracy: {test_acc}')\n",
    "\n",
    "\n",
    "# 415m"
   ]
  },
  {
   "cell_type": "code",
   "execution_count": 91,
   "metadata": {},
   "outputs": [
    {
     "name": "stderr",
     "output_type": "stream",
     "text": [
      "/Users/Ray/anaconda3/lib/python3.11/site-packages/keras/src/engine/training.py:3103: UserWarning: You are saving your model as an HDF5 file via `model.save()`. This file format is considered legacy. We recommend using instead the native Keras format, e.g. `model.save('my_model.keras')`.\n",
      "  saving_api.save_model(\n"
     ]
    }
   ],
   "source": [
    "# Save the entire model to a file\n",
    "model.save('model.h5')\n",
    "\n",
    "# Save only the weights to a separate file\n",
    "model.save_weights('weights.h5')"
   ]
  },
  {
   "cell_type": "code",
   "execution_count": 92,
   "metadata": {},
   "outputs": [
    {
     "name": "stdout",
     "output_type": "stream",
     "text": [
      "Model: \"sequential_20\"\n",
      "_________________________________________________________________\n",
      " Layer (type)                Output Shape              Param #   \n",
      "=================================================================\n",
      " conv2d_56 (Conv2D)          (None, 299, 299, 32)      896       \n",
      "                                                                 \n",
      " batch_normalization_59 (Ba  (None, 299, 299, 32)      128       \n",
      " tchNormalization)                                               \n",
      "                                                                 \n",
      " max_pooling2d_55 (MaxPooli  (None, 149, 149, 32)      0         \n",
      " ng2D)                                                           \n",
      "                                                                 \n",
      " dropout_57 (Dropout)        (None, 149, 149, 32)      0         \n",
      "                                                                 \n",
      " conv2d_57 (Conv2D)          (None, 149, 149, 64)      18496     \n",
      "                                                                 \n",
      " batch_normalization_60 (Ba  (None, 149, 149, 64)      256       \n",
      " tchNormalization)                                               \n",
      "                                                                 \n",
      " max_pooling2d_56 (MaxPooli  (None, 74, 74, 64)        0         \n",
      " ng2D)                                                           \n",
      "                                                                 \n",
      " dropout_58 (Dropout)        (None, 74, 74, 64)        0         \n",
      "                                                                 \n",
      " conv2d_58 (Conv2D)          (None, 74, 74, 128)       73856     \n",
      "                                                                 \n",
      " batch_normalization_61 (Ba  (None, 74, 74, 128)       512       \n",
      " tchNormalization)                                               \n",
      "                                                                 \n",
      " max_pooling2d_57 (MaxPooli  (None, 37, 37, 128)       0         \n",
      " ng2D)                                                           \n",
      "                                                                 \n",
      " dropout_59 (Dropout)        (None, 37, 37, 128)       0         \n",
      "                                                                 \n",
      " random_rotation (RandomRot  (None, 37, 37, 128)       0         \n",
      " ation)                                                          \n",
      "                                                                 \n",
      " flatten_10 (Flatten)        (None, 175232)            0         \n",
      "                                                                 \n",
      " dense_20 (Dense)            (None, 2)                 350466    \n",
      "                                                                 \n",
      "=================================================================\n",
      "Total params: 444610 (1.70 MB)\n",
      "Trainable params: 444162 (1.69 MB)\n",
      "Non-trainable params: 448 (1.75 KB)\n",
      "_________________________________________________________________\n",
      "None\n"
     ]
    }
   ],
   "source": [
    "# print(model.summary())"
   ]
  },
  {
   "cell_type": "markdown",
   "metadata": {},
   "source": [
    "### iii Report Precision, Recall, and F1-score"
   ]
  },
  {
   "cell_type": "code",
   "execution_count": 93,
   "metadata": {},
   "outputs": [
    {
     "name": "stdout",
     "output_type": "stream",
     "text": [
      "63/63 [==============================] - 148s 2s/step\n"
     ]
    }
   ],
   "source": [
    "# model.predict_classes is deprecated\n",
    "y_pred = model.predict(tf_dataset_test)"
   ]
  },
  {
   "cell_type": "code",
   "execution_count": 94,
   "metadata": {},
   "outputs": [
    {
     "name": "stdout",
     "output_type": "stream",
     "text": [
      "7972\n",
      "[0 0 0 ... 1 0 0]\n",
      "7972\n"
     ]
    }
   ],
   "source": [
    "# convert the predicted probability to predicted class\n",
    "y_pred_class = np.argmax(y_pred, axis=1)\n",
    "print(len(y_pred_class))\n",
    "print(y_pred_class)\n",
    "\n",
    "# extract the true label from the batched dataset\n",
    "y_true = []\n",
    "for img, labels in tf_dataset_test:\n",
    "    # print(label)\n",
    "    for label in labels:\n",
    "        y_true.append(label)\n",
    "print(len(y_true))"
   ]
  },
  {
   "cell_type": "code",
   "execution_count": 95,
   "metadata": {},
   "outputs": [
    {
     "name": "stdout",
     "output_type": "stream",
     "text": [
      "              precision    recall  f1-score   support\n",
      "\n",
      "           0       0.28      0.82      0.42      2198\n",
      "           1       0.73      0.19      0.30      5774\n",
      "\n",
      "    accuracy                           0.36      7972\n",
      "   macro avg       0.51      0.50      0.36      7972\n",
      "weighted avg       0.61      0.36      0.33      7972\n",
      "\n"
     ]
    }
   ],
   "source": [
    "report = classification_report(y_true, y_pred_class)\n",
    "print(report)"
   ]
  },
  {
   "cell_type": "code",
   "execution_count": 96,
   "metadata": {},
   "outputs": [
    {
     "data": {
      "image/png": "[encoded data removed]",
      "text/plain": [
       "<Figure size 640x480 with 1 Axes>"
      ]
     },
     "metadata": {},
     "output_type": "display_data"
    }
   ],
   "source": [
    "plt.plot(history.history['accuracy'])\n",
    "plt.plot(history.history['val_accuracy'])\n",
    "plt.title('Model accuracy')\n",
    "plt.ylabel('Accuracy')\n",
    "plt.xlabel('Epoch')\n",
    "plt.legend(['Train', 'Validation'], loc='upper left')\n",
    "plt.show()"
   ]
  },
  {
   "cell_type": "code",
   "execution_count": 97,
   "metadata": {},
   "outputs": [
    {
     "data": {
      "image/png": "[encoded data removed]",
      "text/plain": [
       "<Figure size 640x480 with 1 Axes>"
      ]
     },
     "metadata": {},
     "output_type": "display_data"
    }
   ],
   "source": [
    "plt.plot(history.history['loss'])\n",
    "plt.plot(history.history['val_loss'])\n",
    "plt.title('Model loss')\n",
    "plt.ylabel('Loss')\n",
    "plt.xlabel('Epoch')\n",
    "plt.legend(['Train', 'Validation'], loc='upper left')\n",
    "plt.show()"
   ]
  },
  {
   "cell_type": "markdown",
   "metadata": {},
   "source": [
    "### All the work of this file starts from here"
   ]
  },
  {
   "cell_type": "markdown",
   "metadata": {},
   "source": [
    "# Transfer Learning"
   ]
  },
  {
   "cell_type": "markdown",
   "metadata": {},
   "source": [
    "### EfficientNetB0"
   ]
  },
  {
   "cell_type": "code",
   "execution_count": 7,
   "metadata": {},
   "outputs": [],
   "source": [
    "from keras.applications.efficientnet import EfficientNetB0, preprocess_input"
   ]
  },
  {
   "cell_type": "code",
   "execution_count": 8,
   "metadata": {},
   "outputs": [],
   "source": [
    "#build a EfficientNetB0 without top layer and freeze the feature extraction layers\n",
    "model_eff = EfficientNetB0(include_top=False, input_shape = (299,299,3))\n",
    "for layer in model_eff.layers:\n",
    "    layer.trainable = False\n",
    "\n",
    "# model_eff.summary()"
   ]
  },
  {
   "cell_type": "code",
   "execution_count": 9,
   "metadata": {},
   "outputs": [
    {
     "name": "stdout",
     "output_type": "stream",
     "text": [
      "(None, 10, 10, 1280)\n",
      "(None, 10, 10, 1280)\n",
      "(None, 128000)\n",
      "Epoch 1/15\n",
      "442/442 [==============================] - ETA: 0s - loss: 0.7190 - accuracy: 0.6008"
     ]
    },
    {
     "name": "stderr",
     "output_type": "stream",
     "text": [
      "2023-12-08 00:27:56.062990: I tensorflow/core/kernels/data/shuffle_dataset_op.cc:422] ShuffleDatasetV3:6: Filling up shuffle buffer (this may take a while): 54 of 64\n",
      "2023-12-08 00:27:57.140814: I tensorflow/core/kernels/data/shuffle_dataset_op.cc:452] Shuffle buffer filled.\n"
     ]
    },
    {
     "name": "stdout",
     "output_type": "stream",
     "text": [
      "442/442 [==============================] - 1485s 3s/step - loss: 0.7190 - accuracy: 0.6008 - val_loss: 1.6174 - val_accuracy: 0.2310\n",
      "Epoch 2/15\n",
      "442/442 [==============================] - 595s 1s/step - loss: 0.6616 - accuracy: 0.6381 - val_loss: 0.7626 - val_accuracy: 0.2310\n",
      "Epoch 3/15\n",
      "442/442 [==============================] - 649s 1s/step - loss: 0.6519 - accuracy: 0.6481 - val_loss: 1.0221 - val_accuracy: 0.2310\n",
      "Epoch 4/15\n",
      "442/442 [==============================] - 695s 2s/step - loss: 0.6491 - accuracy: 0.6507 - val_loss: 0.8891 - val_accuracy: 0.2310\n",
      "Epoch 5/15\n",
      "442/442 [==============================] - 693s 2s/step - loss: 0.6483 - accuracy: 0.6503 - val_loss: 0.8499 - val_accuracy: 0.2310\n",
      "Epoch 6/15\n",
      "442/442 [==============================] - 701s 2s/step - loss: 0.6474 - accuracy: 0.6507 - val_loss: 1.0667 - val_accuracy: 0.2310\n",
      "Epoch 7/15\n",
      "442/442 [==============================] - 699s 2s/step - loss: 0.6471 - accuracy: 0.6498 - val_loss: 1.0485 - val_accuracy: 0.2310\n"
     ]
    }
   ],
   "source": [
    "\n",
    "model_eff_retrain = Sequential()\n",
    "\n",
    "model_eff_retrain.add(model_eff)   \n",
    "\n",
    "output_shape = model_eff_retrain.output_shape\n",
    "print(output_shape)\n",
    "\n",
    "model_eff_retrain.add(RandomRotation(factor=(-1,1),seed=SEED))\n",
    "\n",
    "output_shape = model_eff_retrain.output_shape\n",
    "print(output_shape)\n",
    "\n",
    "model_eff_retrain.add(Flatten())\n",
    "\n",
    "output_shape = model_eff_retrain.output_shape\n",
    "print(output_shape)\n",
    "\n",
    "\n",
    "model_eff_retrain.add(Dense(64, activation='relu'))\n",
    "model_eff_retrain.add(BatchNormalization())\n",
    "model_eff_retrain.add(Dropout(0.3))\n",
    "\n",
    "model_eff_retrain.add(Dense(2, activation='softmax'))\n",
    "\n",
    "model_eff_retrain.compile(optimizer=Adam(), loss='sparse_categorical_crossentropy', metrics=['accuracy'])\n",
    "\n",
    "early_stopping_eff = EarlyStopping(monitor='val_loss', patience=5, restore_best_weights=True)\n",
    "\n",
    "history_eff = model_eff_retrain.fit(tf_dataset_train, epochs=15, validation_data=tf_dataset_val, callbacks=[early_stopping_eff])\n",
    "\n",
    "\n",
    "# 92m(7 epochs)"
   ]
  },
  {
   "cell_type": "code",
   "execution_count": 10,
   "metadata": {},
   "outputs": [
    {
     "name": "stderr",
     "output_type": "stream",
     "text": [
      "/Users/Ray/anaconda3/lib/python3.11/site-packages/keras/src/engine/training.py:3103: UserWarning: You are saving your model as an HDF5 file via `model.save()`. This file format is considered legacy. We recommend using instead the native Keras format, e.g. `model.save('my_model.keras')`.\n",
      "  saving_api.save_model(\n"
     ]
    }
   ],
   "source": [
    "# Save the entire model to a file\n",
    "model_eff_retrain.save('model_eff.h5')\n",
    "\n",
    "# Save only the weights to a separate file\n",
    "model_eff_retrain.save_weights('weights_eff.h5')"
   ]
  },
  {
   "cell_type": "code",
   "execution_count": 11,
   "metadata": {},
   "outputs": [
    {
     "name": "stderr",
     "output_type": "stream",
     "text": [
      "2023-12-08 01:53:56.846005: I tensorflow/core/kernels/data/shuffle_dataset_op.cc:422] ShuffleDatasetV3:10: Filling up shuffle buffer (this may take a while): 53 of 64\n",
      "2023-12-08 01:53:58.503103: I tensorflow/core/kernels/data/shuffle_dataset_op.cc:452] Shuffle buffer filled.\n"
     ]
    },
    {
     "name": "stdout",
     "output_type": "stream",
     "text": [
      "250/250 [==============================] - 1642s 7s/step\n",
      "7972\n",
      "[1 1 1 ... 1 1 1]\n"
     ]
    },
    {
     "name": "stderr",
     "output_type": "stream",
     "text": [
      "2023-12-08 02:21:19.033521: I tensorflow/core/kernels/data/shuffle_dataset_op.cc:422] ShuffleDatasetV3:10: Filling up shuffle buffer (this may take a while): 62 of 64\n",
      "2023-12-08 02:21:19.034577: I tensorflow/core/kernels/data/shuffle_dataset_op.cc:452] Shuffle buffer filled.\n"
     ]
    },
    {
     "name": "stdout",
     "output_type": "stream",
     "text": [
      "7972\n"
     ]
    }
   ],
   "source": [
    "# model.predict_classes is deprecated\n",
    "y_pred_eff = model_eff_retrain.predict(tf_dataset_test)\n",
    "\n",
    "# convert the predicted probability to predicted class\n",
    "y_pred_eff_class = np.argmax(y_pred_eff, axis=1)\n",
    "print(len(y_pred_eff_class))\n",
    "print(y_pred_eff_class)\n",
    "\n",
    "# extract the true label from the batched dataset\n",
    "y_true = []\n",
    "for img, labels in tf_dataset_test:\n",
    "    # print(label)\n",
    "    for label in labels:\n",
    "        y_true.append(label)\n",
    "print(len(y_true))\n",
    "\n",
    "\n",
    "#30m"
   ]
  },
  {
   "cell_type": "code",
   "execution_count": 12,
   "metadata": {},
   "outputs": [
    {
     "name": "stdout",
     "output_type": "stream",
     "text": [
      "              precision    recall  f1-score   support\n",
      "\n",
      "           0       0.00      0.00      0.00      2198\n",
      "           1       0.72      1.00      0.84      5774\n",
      "\n",
      "    accuracy                           0.72      7972\n",
      "   macro avg       0.36      0.50      0.42      7972\n",
      "weighted avg       0.52      0.72      0.61      7972\n",
      "\n"
     ]
    },
    {
     "name": "stderr",
     "output_type": "stream",
     "text": [
      "/Users/Ray/anaconda3/lib/python3.11/site-packages/sklearn/metrics/_classification.py:1344: UndefinedMetricWarning: Precision and F-score are ill-defined and being set to 0.0 in labels with no predicted samples. Use `zero_division` parameter to control this behavior.\n",
      "  _warn_prf(average, modifier, msg_start, len(result))\n",
      "/Users/Ray/anaconda3/lib/python3.11/site-packages/sklearn/metrics/_classification.py:1344: UndefinedMetricWarning: Precision and F-score are ill-defined and being set to 0.0 in labels with no predicted samples. Use `zero_division` parameter to control this behavior.\n",
      "  _warn_prf(average, modifier, msg_start, len(result))\n",
      "/Users/Ray/anaconda3/lib/python3.11/site-packages/sklearn/metrics/_classification.py:1344: UndefinedMetricWarning: Precision and F-score are ill-defined and being set to 0.0 in labels with no predicted samples. Use `zero_division` parameter to control this behavior.\n",
      "  _warn_prf(average, modifier, msg_start, len(result))\n"
     ]
    }
   ],
   "source": [
    "report_eff = classification_report(y_true, y_pred_eff_class)\n",
    "print(report_eff)"
   ]
  },
  {
   "cell_type": "code",
   "execution_count": 47,
   "metadata": {},
   "outputs": [
    {
     "name": "stdout",
     "output_type": "stream",
     "text": [
      "250/250 [==============================] - 192s 768ms/step - loss: 0.6513 - accuracy: 0.7243\n",
      "Test accuracy: 0.7242850065231323\n"
     ]
    }
   ],
   "source": [
    "# Evaluate the model on the test set\n",
    "test_loss_eff, test_acc_eff = model_eff_retrain.evaluate(tf_dataset_test)\n",
    "\n",
    "print(f'Test accuracy: {test_acc_eff}')"
   ]
  },
  {
   "cell_type": "code",
   "execution_count": 13,
   "metadata": {},
   "outputs": [
    {
     "data": {
      "image/png": "[encoded data removed]",
      "text/plain": [
       "<Figure size 640x480 with 1 Axes>"
      ]
     },
     "metadata": {},
     "output_type": "display_data"
    }
   ],
   "source": [
    "plt.plot(history_eff.history['accuracy'])\n",
    "plt.plot(history_eff.history['val_accuracy'])\n",
    "plt.title('Model accuracy')\n",
    "plt.ylabel('Accuracy')\n",
    "plt.xlabel('Epoch')\n",
    "plt.legend(['Train', 'Validation'], loc='upper left')\n",
    "plt.show()"
   ]
  },
  {
   "cell_type": "code",
   "execution_count": 14,
   "metadata": {},
   "outputs": [
    {
     "data": {
      "image/png": "[encoded data removed]",
      "text/plain": [
       "<Figure size 640x480 with 1 Axes>"
      ]
     },
     "metadata": {},
     "output_type": "display_data"
    }
   ],
   "source": [
    "plt.plot(history_eff.history['loss'])\n",
    "plt.plot(history_eff.history['val_loss'])\n",
    "plt.title('Model loss')\n",
    "plt.ylabel('Loss')\n",
    "plt.xlabel('Epoch')\n",
    "plt.legend(['Train', 'Validation'], loc='upper left')\n",
    "plt.show()"
   ]
  },
  {
   "cell_type": "markdown",
   "metadata": {},
   "source": [
    "### ResNet50"
   ]
  },
  {
   "cell_type": "code",
   "execution_count": 23,
   "metadata": {},
   "outputs": [],
   "source": [
    "from keras.applications import ResNet50"
   ]
  },
  {
   "cell_type": "code",
   "execution_count": 24,
   "metadata": {},
   "outputs": [],
   "source": [
    "#build a ResNet50 without top layer and freeze the feature extraction layers\n",
    "model_res = ResNet50(include_top=False, input_shape = (299,299,3))\n",
    "for layer in model_res.layers:\n",
    "    layer.trainable = False"
   ]
  },
  {
   "cell_type": "code",
   "execution_count": 27,
   "metadata": {},
   "outputs": [
    {
     "name": "stdout",
     "output_type": "stream",
     "text": [
      "Epoch 1/15\n",
      "442/442 [==============================] - 1980s 4s/step - loss: 0.5972 - accuracy: 0.7044 - val_loss: 0.4499 - val_accuracy: 0.8063\n",
      "Epoch 2/15\n",
      "442/442 [==============================] - 2130s 5s/step - loss: 0.4598 - accuracy: 0.7832 - val_loss: 0.7735 - val_accuracy: 0.5236\n",
      "Epoch 3/15\n",
      "442/442 [==============================] - 1960s 4s/step - loss: 0.4035 - accuracy: 0.8222 - val_loss: 0.6398 - val_accuracy: 0.6503\n",
      "Epoch 4/15\n",
      "442/442 [==============================] - 2169s 5s/step - loss: 0.3747 - accuracy: 0.8389 - val_loss: 0.5888 - val_accuracy: 0.6901\n",
      "Epoch 5/15\n",
      "442/442 [==============================] - 1991s 5s/step - loss: 0.3608 - accuracy: 0.8466 - val_loss: 0.7811 - val_accuracy: 0.5619\n",
      "Epoch 6/15\n",
      "442/442 [==============================] - 1909s 4s/step - loss: 0.3386 - accuracy: 0.8559 - val_loss: 0.8069 - val_accuracy: 0.5486\n"
     ]
    }
   ],
   "source": [
    "model_res_retrain = Sequential()\n",
    "\n",
    "model_res_retrain.add(model_res)   \n",
    "\n",
    "model_res_retrain.add(RandomRotation(factor=(-1,1),seed=SEED))\n",
    "\n",
    "model_res_retrain.add(Flatten())\n",
    "\n",
    "model_res_retrain.add(Dense(64, activation='relu'))\n",
    "model_res_retrain.add(BatchNormalization())\n",
    "model_res_retrain.add(Dropout(0.3))\n",
    "\n",
    "model_res_retrain.add(Dense(2, activation='softmax'))\n",
    "\n",
    "model_res_retrain.compile(optimizer=Adam(), loss='sparse_categorical_crossentropy', metrics=['accuracy'])\n",
    "\n",
    "early_stopping_res = EarlyStopping(monitor='val_loss', patience=5, restore_best_weights=True)\n",
    "\n",
    "history_res = model_res_retrain.fit(tf_dataset_train, epochs=15, validation_data=tf_dataset_val, callbacks=[early_stopping_res])\n",
    "\n",
    "\n",
    "#202m(6 epochs)"
   ]
  },
  {
   "cell_type": "code",
   "execution_count": 28,
   "metadata": {},
   "outputs": [
    {
     "name": "stderr",
     "output_type": "stream",
     "text": [
      "/Users/Ray/anaconda3/lib/python3.11/site-packages/keras/src/engine/training.py:3103: UserWarning: You are saving your model as an HDF5 file via `model.save()`. This file format is considered legacy. We recommend using instead the native Keras format, e.g. `model.save('my_model.keras')`.\n",
      "  saving_api.save_model(\n"
     ]
    }
   ],
   "source": [
    "# Save the entire model to a file\n",
    "model_res_retrain.save('model_res.h5')\n",
    "\n",
    "# Save only the weights to a separate file\n",
    "model_res_retrain.save_weights('weights_res.h5')"
   ]
  },
  {
   "cell_type": "code",
   "execution_count": 29,
   "metadata": {},
   "outputs": [
    {
     "name": "stdout",
     "output_type": "stream",
     "text": [
      "250/250 [==============================] - 678s 3s/step\n",
      "7972\n",
      "[0 1 1 ... 0 0 1]\n",
      "7972\n"
     ]
    }
   ],
   "source": [
    "# model.predict_classes is deprecated\n",
    "y_pred_res = model_res_retrain.predict(tf_dataset_test)\n",
    "\n",
    "# convert the predicted probability to predicted class\n",
    "y_pred_res_class = np.argmax(y_pred_res, axis=1)\n",
    "print(len(y_pred_res_class))\n",
    "print(y_pred_res_class)\n",
    "\n",
    "# extract the true label from the batched dataset\n",
    "y_true = []\n",
    "for img, labels in tf_dataset_test:\n",
    "    # print(label)\n",
    "    for label in labels:\n",
    "        y_true.append(label)\n",
    "print(len(y_true))\n",
    "\n",
    "#12m"
   ]
  },
  {
   "cell_type": "code",
   "execution_count": 30,
   "metadata": {},
   "outputs": [
    {
     "name": "stdout",
     "output_type": "stream",
     "text": [
      "              precision    recall  f1-score   support\n",
      "\n",
      "           0       0.28      0.69      0.40      2198\n",
      "           1       0.73      0.31      0.44      5774\n",
      "\n",
      "    accuracy                           0.42      7972\n",
      "   macro avg       0.50      0.50      0.42      7972\n",
      "weighted avg       0.60      0.42      0.43      7972\n",
      "\n"
     ]
    }
   ],
   "source": [
    "report_res = classification_report(y_true, y_pred_res_class)\n",
    "print(report_res)"
   ]
  },
  {
   "cell_type": "code",
   "execution_count": 45,
   "metadata": {},
   "outputs": [
    {
     "name": "stdout",
     "output_type": "stream",
     "text": [
      "250/250 [==============================] - 707s 3s/step - loss: 1.0901 - accuracy: 0.4024\n",
      "Test accuracy: 0.4024084210395813\n"
     ]
    }
   ],
   "source": [
    "# Evaluate the model on the test set\n",
    "test_loss_res, test_acc_res = model_res_retrain.evaluate(tf_dataset_test)\n",
    "\n",
    "print(f'Test accuracy: {test_acc_res}')"
   ]
  },
  {
   "cell_type": "code",
   "execution_count": 46,
   "metadata": {},
   "outputs": [
    {
     "name": "stdout",
     "output_type": "stream",
     "text": [
      "Test accuracy: 0.4024084210395813\n"
     ]
    }
   ],
   "source": [
    "print(f'Test accuracy: {test_acc_res}')"
   ]
  },
  {
   "cell_type": "code",
   "execution_count": 31,
   "metadata": {},
   "outputs": [
    {
     "data": {
      "image/png": "[encoded data removed]",
      "text/plain": [
       "<Figure size 640x480 with 1 Axes>"
      ]
     },
     "metadata": {},
     "output_type": "display_data"
    }
   ],
   "source": [
    "plt.plot(history_res.history['accuracy'])\n",
    "plt.plot(history_res.history['val_accuracy'])\n",
    "plt.title('Model accuracy')\n",
    "plt.ylabel('Accuracy')\n",
    "plt.xlabel('Epoch')\n",
    "plt.legend(['Train', 'Validation'], loc='upper left')\n",
    "plt.show()"
   ]
  },
  {
   "cell_type": "code",
   "execution_count": 32,
   "metadata": {},
   "outputs": [
    {
     "data": {
      "image/png": "[encoded data removed]",
      "text/plain": [
       "<Figure size 640x480 with 1 Axes>"
      ]
     },
     "metadata": {},
     "output_type": "display_data"
    }
   ],
   "source": [
    "plt.plot(history_res.history['loss'])\n",
    "plt.plot(history_res.history['val_loss'])\n",
    "plt.title('Model loss')\n",
    "plt.ylabel('Loss')\n",
    "plt.xlabel('Epoch')\n",
    "plt.legend(['Train', 'Validation'], loc='upper left')\n",
    "plt.show()"
   ]
  },
  {
   "cell_type": "markdown",
   "metadata": {},
   "source": [
    "### VGG16"
   ]
  },
  {
   "cell_type": "code",
   "execution_count": 33,
   "metadata": {},
   "outputs": [],
   "source": [
    "from keras.applications import VGG16"
   ]
  },
  {
   "cell_type": "code",
   "execution_count": 34,
   "metadata": {},
   "outputs": [
    {
     "name": "stdout",
     "output_type": "stream",
     "text": [
      "Downloading data from https://storage.googleapis.com/tensorflow/keras-applications/vgg16/vgg16_weights_tf_dim_ordering_tf_kernels_notop.h5\n",
      "58889256/58889256 [==============================] - 2s 0us/step\n"
     ]
    }
   ],
   "source": [
    "#build a VGG16 without top layer and freeze the feature extraction layers\n",
    "model_vgg = VGG16(include_top=False, input_shape = (299,299,3))\n",
    "for layer in model_vgg.layers:\n",
    "    layer.trainable = False"
   ]
  },
  {
   "cell_type": "code",
   "execution_count": 35,
   "metadata": {},
   "outputs": [
    {
     "name": "stdout",
     "output_type": "stream",
     "text": [
      "Epoch 1/15\n",
      "442/442 [==============================] - 5810s 13s/step - loss: 0.1015 - accuracy: 0.9641 - val_loss: 2.6354 - val_accuracy: 0.4633\n",
      "Epoch 2/15\n",
      "442/442 [==============================] - 5787s 13s/step - loss: 0.0560 - accuracy: 0.9785 - val_loss: 2.1241 - val_accuracy: 0.5586\n",
      "Epoch 3/15\n",
      "442/442 [==============================] - 5751s 13s/step - loss: 0.0441 - accuracy: 0.9840 - val_loss: 1.2508 - val_accuracy: 0.6775\n",
      "Epoch 4/15\n",
      "442/442 [==============================] - 5728s 13s/step - loss: 0.0479 - accuracy: 0.9831 - val_loss: 2.2301 - val_accuracy: 0.4830\n",
      "Epoch 5/15\n",
      "442/442 [==============================] - 5770s 13s/step - loss: 0.0398 - accuracy: 0.9856 - val_loss: 2.1632 - val_accuracy: 0.5226\n",
      "Epoch 6/15\n",
      "442/442 [==============================] - 6486s 15s/step - loss: 0.0340 - accuracy: 0.9880 - val_loss: 2.4086 - val_accuracy: 0.4987\n",
      "Epoch 7/15\n",
      "442/442 [==============================] - 6655s 15s/step - loss: 0.0394 - accuracy: 0.9865 - val_loss: 2.4220 - val_accuracy: 0.5141\n",
      "Epoch 8/15\n",
      "442/442 [==============================] - 7506s 17s/step - loss: 0.0349 - accuracy: 0.9873 - val_loss: 1.2172 - val_accuracy: 0.7323\n",
      "Epoch 9/15\n",
      "442/442 [==============================] - 7976s 18s/step - loss: 0.0344 - accuracy: 0.9873 - val_loss: 1.7862 - val_accuracy: 0.6050\n",
      "Epoch 10/15\n",
      "442/442 [==============================] - 8199s 19s/step - loss: 0.0333 - accuracy: 0.9879 - val_loss: 1.1843 - val_accuracy: 0.7257\n",
      "Epoch 11/15\n",
      "442/442 [==============================] - 7663s 17s/step - loss: 0.0338 - accuracy: 0.9886 - val_loss: 2.3175 - val_accuracy: 0.5034\n",
      "Epoch 12/15\n",
      "442/442 [==============================] - 7680s 17s/step - loss: 0.0363 - accuracy: 0.9875 - val_loss: 2.8624 - val_accuracy: 0.4421\n",
      "Epoch 13/15\n",
      "442/442 [==============================] - 7044s 16s/step - loss: 0.0337 - accuracy: 0.9880 - val_loss: 2.9154 - val_accuracy: 0.4510\n",
      "Epoch 14/15\n",
      "442/442 [==============================] - 6546s 15s/step - loss: 0.0340 - accuracy: 0.9874 - val_loss: 5.1587 - val_accuracy: 0.2803\n",
      "Epoch 15/15\n",
      "442/442 [==============================] - 6636s 15s/step - loss: 0.0355 - accuracy: 0.9867 - val_loss: 5.2624 - val_accuracy: 0.2601\n"
     ]
    }
   ],
   "source": [
    "model_vgg_retrain = Sequential()\n",
    "\n",
    "model_vgg_retrain.add(model_vgg)   \n",
    "\n",
    "model_vgg_retrain.add(RandomRotation(factor=(-1,1),seed=SEED))\n",
    "\n",
    "model_vgg_retrain.add(Flatten())\n",
    "\n",
    "model_vgg_retrain.add(Dense(64, activation='relu'))\n",
    "model_vgg_retrain.add(BatchNormalization())\n",
    "model_vgg_retrain.add(Dropout(0.3))\n",
    "\n",
    "model_vgg_retrain.add(Dense(2, activation='softmax'))\n",
    "\n",
    "model_vgg_retrain.compile(optimizer=Adam(), loss='sparse_categorical_crossentropy', metrics=['accuracy'])\n",
    "\n",
    "early_stopping_vgg = EarlyStopping(monitor='val_loss', patience=5, restore_best_weights=True)\n",
    "\n",
    "history_vgg = model_vgg_retrain.fit(tf_dataset_train, epochs=15, validation_data=tf_dataset_val, callbacks=[early_stopping_vgg])\n",
    "\n"
   ]
  },
  {
   "cell_type": "code",
   "execution_count": 36,
   "metadata": {},
   "outputs": [
    {
     "name": "stderr",
     "output_type": "stream",
     "text": [
      "/Users/Ray/anaconda3/lib/python3.11/site-packages/keras/src/engine/training.py:3103: UserWarning: You are saving your model as an HDF5 file via `model.save()`. This file format is considered legacy. We recommend using instead the native Keras format, e.g. `model.save('my_model.keras')`.\n",
      "  saving_api.save_model(\n"
     ]
    }
   ],
   "source": [
    "# Save the entire model to a file\n",
    "model_vgg_retrain.save('model_vgg.h5')\n",
    "\n",
    "# Save only the weights to a separate file\n",
    "model_vgg_retrain.save_weights('weights_vgg.h5')"
   ]
  },
  {
   "cell_type": "code",
   "execution_count": 37,
   "metadata": {},
   "outputs": [
    {
     "name": "stdout",
     "output_type": "stream",
     "text": [
      "250/250 [==============================] - 2755s 11s/step\n",
      "7972\n",
      "[0 1 1 ... 1 1 1]\n",
      "7972\n"
     ]
    }
   ],
   "source": [
    "# model.predict_classes is deprecated\n",
    "y_pred_vgg = model_vgg_retrain.predict(tf_dataset_test)\n",
    "\n",
    "# convert the predicted probability to predicted class\n",
    "y_pred_vgg_class = np.argmax(y_pred_vgg, axis=1)\n",
    "print(len(y_pred_vgg_class))\n",
    "print(y_pred_vgg_class)\n",
    "\n",
    "# extract the true label from the batched dataset\n",
    "y_true = []\n",
    "for img, labels in tf_dataset_test:\n",
    "    # print(label)\n",
    "    for label in labels:\n",
    "        y_true.append(label)\n",
    "print(len(y_true))"
   ]
  },
  {
   "cell_type": "code",
   "execution_count": 38,
   "metadata": {},
   "outputs": [
    {
     "name": "stdout",
     "output_type": "stream",
     "text": [
      "              precision    recall  f1-score   support\n",
      "\n",
      "           0       0.29      0.38      0.33      2198\n",
      "           1       0.73      0.64      0.68      5774\n",
      "\n",
      "    accuracy                           0.57      7972\n",
      "   macro avg       0.51      0.51      0.50      7972\n",
      "weighted avg       0.61      0.57      0.58      7972\n",
      "\n"
     ]
    }
   ],
   "source": [
    "report_vgg = classification_report(y_true, y_pred_vgg_class)\n",
    "print(report_vgg)"
   ]
  },
  {
   "cell_type": "code",
   "execution_count": 81,
   "metadata": {},
   "outputs": [
    {
     "name": "stderr",
     "output_type": "stream",
     "text": [
      "2023-12-10 12:48:03.667033: I tensorflow/core/kernels/data/shuffle_dataset_op.cc:422] ShuffleDatasetV3:10: Filling up shuffle buffer (this may take a while): 52 of 64\n",
      "2023-12-10 12:48:04.919992: I tensorflow/core/kernels/data/shuffle_dataset_op.cc:452] Shuffle buffer filled.\n"
     ]
    },
    {
     "name": "stdout",
     "output_type": "stream",
     "text": [
      "250/250 [==============================] - 2996s 12s/step - loss: 0.7027 - accuracy: 0.8258\n",
      "Test accuracy: 0.8257651925086975\n"
     ]
    }
   ],
   "source": [
    "# Evaluate the model on the test set\n",
    "test_loss_vgg, test_acc_vgg = model_vgg_retrain.evaluate(tf_dataset_test)\n",
    "\n",
    "print(f'Test accuracy: {test_acc_vgg}')\n",
    "\n",
    "# 05m"
   ]
  },
  {
   "cell_type": "code",
   "execution_count": 44,
   "metadata": {},
   "outputs": [
    {
     "name": "stdout",
     "output_type": "stream",
     "text": [
      "Test accuracy: 0.8257651925086975\n"
     ]
    }
   ],
   "source": [
    "print(f'Test accuracy: {test_acc_vgg}')"
   ]
  },
  {
   "cell_type": "code",
   "execution_count": 39,
   "metadata": {},
   "outputs": [
    {
     "data": {
      "image/png": "[encoded data removed]",
      "text/plain": [
       "<Figure size 640x480 with 1 Axes>"
      ]
     },
     "metadata": {},
     "output_type": "display_data"
    }
   ],
   "source": [
    "plt.plot(history_vgg.history['accuracy'])\n",
    "plt.plot(history_vgg.history['val_accuracy'])\n",
    "plt.title('Model accuracy')\n",
    "plt.ylabel('Accuracy')\n",
    "plt.xlabel('Epoch')\n",
    "plt.legend(['Train', 'Validation'], loc='upper left')\n",
    "plt.show()"
   ]
  },
  {
   "cell_type": "code",
   "execution_count": 40,
   "metadata": {},
   "outputs": [
    {
     "data": {
      "image/png": "[encoded data removed]",
      "text/plain": [
       "<Figure size 640x480 with 1 Axes>"
      ]
     },
     "metadata": {},
     "output_type": "display_data"
    }
   ],
   "source": [
    "plt.plot(history_vgg.history['loss'])\n",
    "plt.plot(history_vgg.history['val_loss'])\n",
    "plt.title('Model loss')\n",
    "plt.ylabel('Loss')\n",
    "plt.xlabel('Epoch')\n",
    "plt.legend(['Train', 'Validation'], loc='upper left')\n",
    "plt.show()"
   ]
  },
  {
   "cell_type": "markdown",
   "metadata": {},
   "source": [
    "### Summary of the models:\n",
    "- EfficientNetB0 predict every observation as class 1 so it has the worst recall precision for calss 0.\n",
    "- VGG16 gives the highest test acc while retain OK precision, recall and f1-score.\n",
    "- None of the models perform well on class 0.\n",
    "- These pre-trained model use 3 channels, but our data only use 1 channel. Such difference might casue some issue.\n",
    "- Our handmade CNN+MLP model doesn't work well either, it can result from not many data augmentation and I don't use too many neurons."
   ]
  },
  {
   "cell_type": "code",
   "execution_count": 78,
   "metadata": {},
   "outputs": [],
   "source": [
    "def summary_models(reports, test_accs):\n",
    "    precision = []\n",
    "    recall = []\n",
    "    f1_score = []\n",
    "    test_acc = []\n",
    "\n",
    "    # manually append CNN+MLP's result\n",
    "    precision.append(0.28)\n",
    "    precision.append(0.73)\n",
    "    recall.append(0.82)\n",
    "    recall.append(0.19)\n",
    "    f1_score.append(0.42)\n",
    "    f1_score.append(0.3)\n",
    "    test_acc.append(0.4559708833694458)\n",
    "    test_acc.append(0.4559708833694458)\n",
    "\n",
    "    for report in reports:\n",
    "        precision_0 = report.split()[5]\n",
    "        precision_1 = report.split()[10]\n",
    "        recall_0 = report.split()[6]\n",
    "        recall_1 = report.split()[11]\n",
    "        f1_0 = report.split()[7]\n",
    "        f1_1 = report.split()[12]\n",
    "        precision.append(precision_0)\n",
    "        precision.append(precision_1)\n",
    "        recall.append(recall_0)\n",
    "        recall.append(recall_1)\n",
    "        f1_score.append(f1_0)\n",
    "        f1_score.append(f1_1)\n",
    "\n",
    "    for acc in test_accs:\n",
    "        test_acc.append(acc)\n",
    "        test_acc.append(acc)\n",
    "    summary = {'precision':precision, 'recall': recall, 'f1-score': f1_score, 'test_acc':test_acc}\n",
    "    return summary\n"
   ]
  },
  {
   "cell_type": "code",
   "execution_count": 82,
   "metadata": {},
   "outputs": [
    {
     "name": "stdout",
     "output_type": "stream",
     "text": [
      "{'precision': [0.28, 0.73, '0.00', '0.72', '0.28', '0.73', '0.29', '0.73'], 'recall': [0.82, 0.19, '0.00', '1.00', '0.69', '0.31', '0.38', '0.64'], 'f1-score': [0.42, 0.3, '0.00', '0.84', '0.40', '0.44', '0.33', '0.68'], 'test_acc': [0.4559708833694458, 0.4559708833694458, 0.7242850065231323, 0.7242850065231323, 0.4024084210395813, 0.4024084210395813, 0.8257651925086975, 0.8257651925086975]}\n"
     ]
    },
    {
     "data": {
      "text/html": [
       "<div>\n",
       "<style scoped>\n",
       "    .dataframe tbody tr th:only-of-type {\n",
       "        vertical-align: middle;\n",
       "    }\n",
       "\n",
       "    .dataframe tbody tr th {\n",
       "        vertical-align: top;\n",
       "    }\n",
       "\n",
       "    .dataframe thead th {\n",
       "        text-align: right;\n",
       "    }\n",
       "</style>\n",
       "<table border=\"1\" class=\"dataframe\">\n",
       "  <thead>\n",
       "    <tr style=\"text-align: right;\">\n",
       "      <th></th>\n",
       "      <th>precision</th>\n",
       "      <th>recall</th>\n",
       "      <th>f1-score</th>\n",
       "      <th>test_acc</th>\n",
       "    </tr>\n",
       "  </thead>\n",
       "  <tbody>\n",
       "    <tr>\n",
       "      <th>CNN+MLP_class0</th>\n",
       "      <td>0.28</td>\n",
       "      <td>0.82</td>\n",
       "      <td>0.42</td>\n",
       "      <td>0.455971</td>\n",
       "    </tr>\n",
       "    <tr>\n",
       "      <th>CNN+MLP_class1</th>\n",
       "      <td>0.73</td>\n",
       "      <td>0.19</td>\n",
       "      <td>0.3</td>\n",
       "      <td>0.455971</td>\n",
       "    </tr>\n",
       "    <tr>\n",
       "      <th>EfficientNetB0_clas0</th>\n",
       "      <td>0.00</td>\n",
       "      <td>0.00</td>\n",
       "      <td>0.00</td>\n",
       "      <td>0.724285</td>\n",
       "    </tr>\n",
       "    <tr>\n",
       "      <th>EfficientNetB0_clas1</th>\n",
       "      <td>0.72</td>\n",
       "      <td>1.00</td>\n",
       "      <td>0.84</td>\n",
       "      <td>0.724285</td>\n",
       "    </tr>\n",
       "    <tr>\n",
       "      <th>ResNet50_clas0</th>\n",
       "      <td>0.28</td>\n",
       "      <td>0.69</td>\n",
       "      <td>0.40</td>\n",
       "      <td>0.402408</td>\n",
       "    </tr>\n",
       "    <tr>\n",
       "      <th>ResNet50_clas1</th>\n",
       "      <td>0.73</td>\n",
       "      <td>0.31</td>\n",
       "      <td>0.44</td>\n",
       "      <td>0.402408</td>\n",
       "    </tr>\n",
       "    <tr>\n",
       "      <th>VGG16_clas0</th>\n",
       "      <td>0.29</td>\n",
       "      <td>0.38</td>\n",
       "      <td>0.33</td>\n",
       "      <td>0.825765</td>\n",
       "    </tr>\n",
       "    <tr>\n",
       "      <th>VGG16_clas1</th>\n",
       "      <td>0.73</td>\n",
       "      <td>0.64</td>\n",
       "      <td>0.68</td>\n",
       "      <td>0.825765</td>\n",
       "    </tr>\n",
       "  </tbody>\n",
       "</table>\n",
       "</div>"
      ],
      "text/plain": [
       "                     precision recall f1-score  test_acc\n",
       "CNN+MLP_class0            0.28   0.82     0.42  0.455971\n",
       "CNN+MLP_class1            0.73   0.19      0.3  0.455971\n",
       "EfficientNetB0_clas0      0.00   0.00     0.00  0.724285\n",
       "EfficientNetB0_clas1      0.72   1.00     0.84  0.724285\n",
       "ResNet50_clas0            0.28   0.69     0.40  0.402408\n",
       "ResNet50_clas1            0.73   0.31     0.44  0.402408\n",
       "VGG16_clas0               0.29   0.38     0.33  0.825765\n",
       "VGG16_clas1               0.73   0.64     0.68  0.825765"
      ]
     },
     "execution_count": 82,
     "metadata": {},
     "output_type": "execute_result"
    }
   ],
   "source": [
    "import pandas as pd\n",
    "test_accs = [test_acc_eff, test_acc_res, test_acc_vgg]\n",
    "reports = [report_eff,report_res,report_vgg]\n",
    "summary = summary_models(reports, test_accs)\n",
    "print(summary)\n",
    "index = ['CNN+MLP_class0', 'CNN+MLP_class1','EfficientNetB0_clas0', 'EfficientNetB0_clas1', 'ResNet50_clas0', 'ResNet50_clas1', 'VGG16_clas0', 'VGG16_clas1']\n",
    "df = pd.DataFrame(summary, index=index)\n",
    "df"
   ]
  },
  {
   "cell_type": "markdown",
   "metadata": {},
   "source": [
    "- Please notice that the rest accuracy of CNN+MLP is increased to 0.774 by adding RandomFlip layer and a dense layer with 64 perceptrons(refer to Chen_Wei_Chieh_Project.ipynb)."
   ]
  }
 ],
 "metadata": {
  "kernelspec": {
   "display_name": "Python 3 (ipykernel)",
   "language": "python",
   "name": "python3"
  },
  "language_info": {
   "codemirror_mode": {
    "name": "ipython",
    "version": 3
   },
   "file_extension": ".py",
   "mimetype": "text/x-python",
   "name": "python",
   "nbconvert_exporter": "python",
   "pygments_lexer": "ipython3",
   "version": "3.11.4"
  }
 },
 "nbformat": 4,
 "nbformat_minor": 2
}
